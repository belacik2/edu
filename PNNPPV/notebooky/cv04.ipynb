{
  "nbformat": 4,
  "nbformat_minor": 0,
  "metadata": {
    "colab": {
      "name": "cv04.ipynb",
      "provenance": [],
      "collapsed_sections": [],
      "toc_visible": true,
      "include_colab_link": true
    },
    "kernelspec": {
      "name": "python3",
      "display_name": "Python 3"
    },
    "accelerator": "GPU"
  },
  "cells": [
    {
      "cell_type": "markdown",
      "metadata": {
        "id": "view-in-github",
        "colab_type": "text"
      },
      "source": [
        "<a href=\"https://colab.research.google.com/github/kocurvik/edu/blob/master/PNNPPV/notebooky/cv04.ipynb\" target=\"_parent\"><img src=\"https://colab.research.google.com/assets/colab-badge.svg\" alt=\"Open In Colab\"/></a>"
      ]
    },
    {
      "cell_type": "markdown",
      "metadata": {
        "id": "FVQuUMvP22gT",
        "colab_type": "text"
      },
      "source": [
        "# Trénovanie II.\n",
        "\n",
        "Dnes si prejdeme konvolučné neurónové siete, tzv. funkčné API kerasu, vrstvy ako BatchNorm a Dropout, augmentáciu vstupného obrazu, ostatné optimalizačné algoritmy a vyrobíme si aj vlastnú vrstvu."
      ]
    },
    {
      "cell_type": "code",
      "metadata": {
        "id": "UbfsW4kY20kZ",
        "colab_type": "code",
        "colab": {}
      },
      "source": [
        "import keras\n",
        "import numpy as np\n",
        "\n",
        "from keras.layers import Dense, Conv2D, Flatten, MaxPooling2D, BatchNormalization, Dropout, Activation\n",
        "from keras.datasets import cifar10\n",
        "from keras.models import Sequential, Model\n",
        "\n",
        "import matplotlib.pyplot as plt"
      ],
      "execution_count": 0,
      "outputs": []
    },
    {
      "cell_type": "markdown",
      "metadata": {
        "id": "jMJIJPl580AX",
        "colab_type": "text"
      },
      "source": [
        "## Cifar-10\n",
        "\n",
        "Dnes si načítame dataset cifar-10. Tento dataset obsahuje malé obrázky, ktoré su rozdelené na 10 kategórií."
      ]
    },
    {
      "cell_type": "code",
      "metadata": {
        "id": "5BWPdGtiACZv",
        "colab_type": "code",
        "colab": {}
      },
      "source": [
        "(x, y), (x_test, y_test) = cifar10.load_data()\n",
        "\n",
        "num_classes = 10\n",
        "\n",
        "y = keras.utils.to_categorical(y, num_classes)\n",
        "y_test = keras.utils.to_categorical(y_test, num_classes)\n",
        "\n",
        "x = x.astype('float32')\n",
        "x_test = x_test.astype('float32')\n",
        "x /= 255\n",
        "x_test /= 255\n",
        "\n",
        "x_val = x[:10000]\n",
        "y_val = y[:10000]\n",
        "x_train = x[10000:]\n",
        "y_train = y[10000:]\n",
        "\n",
        "print(x.shape)\n",
        "print(x_test.shape)\n",
        "\n",
        "for i in range(5):\n",
        "  plt.imshow(x[i])\n",
        "  print(y[i])\n",
        "  plt.show()"
      ],
      "execution_count": 0,
      "outputs": []
    },
    {
      "cell_type": "markdown",
      "metadata": {
        "id": "2zQtg90RBUt3",
        "colab_type": "text"
      },
      "source": [
        "## Konvolúcia\n",
        "\n",
        "Ak by sme chceli používať pre počítačové videnie plne prepojené vrstvy, tak by sme narazili na problém s rýchlo narastajúcim množstvom parametrov. Veľké množstvo parametrov komplikuje trénovanie z hľadiska zložitosti priestoru nad ktorým optimalizujeme a taktiež vo výpočtovej náročnosti takejto optimalizácie.\n",
        "\n",
        "Z tohto dôvodu sa najčastiejšie používajú tzv. konvolučné neurónové siete. Ich základom je konvolúcia. Tá je obecne definovaná na pre dve funkcie $f$ a $g$:\n",
        "\n",
        "$$ (f \\ast g)(t)  = \\int_{-\\infty}^{\\infty} f(x) g(t - x) dx$$\n",
        "\n",
        "Väčšinou sa používa ak je nosič jednej z funkcií obmedzený. V diskrétnom prípade pre \"postupnosti\" $a_i$ a $b_i$ pre $ i \\in \\mathbb{Z}$. Definujeme ako:\n",
        "\n",
        "$$ (a \\ast b)_j = \\sum_{i \\in \\mathbb{Z}} a_i \\cdot b_{j-i}$$.\n",
        "\n",
        "V obraze však bežne však využívame dvojrozmernú verziu s veľmi malým jadrom o rozmeroch napr. $3 \\times 3$, $5 \\times 5$ atď. Keďže tieto jadrá sú pre bežné úlohy spracovania obrazu často symetrické, tak je bežne zamienaný pojem korelácie s konvolúciou (rozdiel je v znamienku vo výraze). Aplikáciu konvolúcie si tak môžeme predstaviť ako prenásobenie okolia nejakého bodu maskou a následné sčítanie daných hodnôt. Na obrázku znázornené ako:\n",
        "\n",
        "![alt text](https://i.stack.imgur.com/YDusp.png)\n",
        "\n",
        "Takýto postup sa bežne používa pri detekcii hrán, alebo iných zaujímavých bodov v obraze. Konvolúcia je preto vhodná na využitie v neurónových sieťach. To realizujeme tak, že daná vrsvta siete aplikuje na jej vstup konvolúciu s jadrom ktorého váhy sa sieť učí pri tréningu.\n",
        "\n",
        "Aby to nebolo moc jednoduché, tak tieto jadrá niesu len dvojrozmerné (napr. $3 \\times 3$), ale trojrozmerné, kde tretí rozmer korešponduje s počtom kanálov na vstupe do vrstvy. Každá vrstva má týchto jadier viacero a výstupom z nej tak bude obraz, alebo mapa príznakov s počtom kanálov rovným počtu jadier.\n",
        "\n",
        "Pri konvolúcii ešte musíme myslieť na to čo robiť na okrajoch. Prístupy sú rôzne. Niekedy jadro prikladáme tak, že nikdy neprekočíme okraj. To ale spôsobí, že výstupný obraz bude mať iné rozmery ako vstupný. Ak nám to nevyhovuje, tak môžeme časti za okrajom obrazu považivať za nuly, prípadne brať hodnoty z opačnej strany obrazu. Pridanie núl sa označuje ako padding. Ďalšou modifikáciou je tzv. stride, teda, že jadro neprikladáme vždy o jedno políčko vedľa, ale nejaké preskočíme.\n",
        "\n",
        "Pre jeden rozmer výstupného obrazu (samostatne šírka alebo výška) potom platí:\n",
        "\n",
        "$$ N_{out} = \\frac{N_{in} - F + 2P}{S} + 1,$$\n",
        "\n",
        "kde $N_{out}$ je výstupná veľkosť, $N_{out}$ je vstupná veľkosť, $F$ je veľkosť jadra a $P$ je padding.\n",
        "\n",
        "*Pozn.:* Keďže v sieti máme viacero kanálov, tak je uplne možné brať do úvahy aj $1 \\times 1$ konvolúciu. Tá nam totiž len redukuje počet kanálov.\n",
        "\n"
      ]
    },
    {
      "cell_type": "markdown",
      "metadata": {
        "id": "9g1HVmomPmp2",
        "colab_type": "text"
      },
      "source": [
        "## Pooling\n",
        "\n",
        "Konvolúcia sa často používa s tzv. poolingovými vrstvami. Tie slúžia na to, aby sa veľkosť obrazu postupne zmenšovala, čo vedie na menšie pamäťové nároky a možnosť používania viacero kanálov v hlbších vrstvách siete. Táto vrstva rozdelí obraz na zopár oblastí napr. $2 \\times 2$ štvorčeky zredukuje hodnoty v nich na jedno číslo. To sa robí veľmi často pomocou operácie maxima, alebo menej často priemeru.\n",
        "\n",
        "![alt text](https://qph.fs.quoracdn.net/main-qimg-cf2833a40f946faf04163bc28517959c)"
      ]
    },
    {
      "cell_type": "markdown",
      "metadata": {
        "id": "vR9KduhJVOfC",
        "colab_type": "text"
      },
      "source": [
        "## Flatten a Globálny Pooling\n",
        "\n",
        "Na konci sieťe je veľmi bežné použiť zopár plne prepojených vrstiev. Na to je však potrebné redukovať počet dimenzií (rád tenzoru). K tomu slúži vrstva Flatten, ktorá príznaky zoradí z obrazovej reprezentácie do vektoru.\n",
        "\n",
        "Nie vždy je vhodné využiť takýto prístup keďže veľkosť vektoru potom môže byť strašne veľká. Namiesto toho sa tak často používa tzv. globálny pooling, ktorý funguje ako bežný pooling ale redukuje celý obraz prináležiaci jednému kanálu na jedno číslo. Tu sa narozdiel od bežného Poolingu používa často priemerovací pooling."
      ]
    },
    {
      "cell_type": "markdown",
      "metadata": {
        "id": "uQYw27pIQzOq",
        "colab_type": "text"
      },
      "source": [
        "## Aktivačné funkcie\n",
        "\n",
        "Výber aktivačnej funkcie je dôležitý pri konštrukcii architektúr hlbokých neurónových sietí. Viac sa s nimi zoznámite počas domácej úlohy. Dnes budeme používať aktivačnú funkciu ReLU (rectified linear unit), ktorá ma nazrozdiel od sigmoidu výhodu v tom, že sa veľmi rýchlo počíta a jej derivácia je buď jedna, alebo nula, čo pomáha riešiť problém tzv. miznúcich gradientov, ktorý nastáva pri využití sigmoidu. Preto budeme v dnešnom notebooku používať ReLU.\n",
        "\n",
        "ReLU je síce populárna, ale má niektoré nie uplne vhodné vlastnosti. Tie riešia rôznymi spôsobmi jej variácie PReLU, ELU a Leaky ReLU s ktorými sa zoznámite v rámci domácej úlohy. "
      ]
    },
    {
      "cell_type": "markdown",
      "metadata": {
        "id": "OLI8_XRYaybA",
        "colab_type": "text"
      },
      "source": [
        "## Optimalizácia\n",
        "\n",
        "Zatiaľ sme používali na optimalizáciu SGD. To je ale veľmi senzitívne na nastavenie trénovacieho kroku. V dnešnom cvičení použiejeme metódu Adam. Rôzne metódy optimalizácie aj to ako reagujú na hyperparametre si takisto overíte v rámci domácej úlohy."
      ]
    },
    {
      "cell_type": "markdown",
      "metadata": {
        "id": "Ohd7vfgMSb4t",
        "colab_type": "text"
      },
      "source": [
        "## Jednoduchý model CNN\n",
        "\n",
        "Navrhneme si jednoduchý model pre konvolučnú neurónovú sieť.\n",
        "\n",
        "Pre konvolučné vrstvy je prvý parameter počet konvolučných jadier. Ďalšie parametre sú veľkosť jadier, padding, stride atď pre viac info konzultujte dokumentáciu.\n",
        "\n",
        "Pre poolingové vrsvy je to veľkosť poolingového okna."
      ]
    },
    {
      "cell_type": "code",
      "metadata": {
        "id": "3ZpSuG7LUj7X",
        "colab_type": "code",
        "colab": {}
      },
      "source": [
        "model = Sequential()\n",
        "model.add(Conv2D(32, (3, 3), padding='same', input_shape=(32,32,3), activation='relu'))\n",
        "model.add(Conv2D(32, (3, 3), activation='relu'))\n",
        "model.add(MaxPooling2D(pool_size=(2, 2)))\n",
        "\n",
        "model.add(Conv2D(64, (3, 3), padding='same', activation='relu'))\n",
        "model.add(Conv2D(64, (3, 3), activation='relu'))\n",
        "model.add(MaxPooling2D(pool_size=(2, 2)))\n",
        "\n",
        "model.add(Flatten())\n",
        "model.add(Dense(512, activation='relu'))\n",
        "model.add(Dense(num_classes, activation='softmax'))"
      ],
      "execution_count": 0,
      "outputs": []
    },
    {
      "cell_type": "code",
      "metadata": {
        "id": "c4KZar-Yan39",
        "colab_type": "code",
        "colab": {}
      },
      "source": [
        "model.compile(loss='categorical_crossentropy',\n",
        "              optimizer='adam',\n",
        "              metrics=['accuracy'])\n",
        "\n",
        "model.fit(x_train, y_train,\n",
        "          batch_size=32,\n",
        "          epochs=30,\n",
        "          validation_data=(x_val, y_val),\n",
        "          shuffle=True)"
      ],
      "execution_count": 0,
      "outputs": []
    },
    {
      "cell_type": "markdown",
      "metadata": {
        "id": "mxuoP1FmdFD9",
        "colab_type": "text"
      },
      "source": [
        "## Augmentácia dát\n",
        "\n",
        "Na vylepšenie modelu by bolo dobré mať viac dát. Tie však len tak zohnať nevieme. Preto si pomôžeme augmentáciou. Tá spočíva v aplikácii transformácií, ktoré nemenia sémantický obsah obrazu. Augmentácia sa dá poňať aj tak, že chceme aby naša sieť bola invariantná voči týmto transformáciám.\n",
        "\n",
        "Prakticky využijeme augmentáciu tak, že použijeme tzv. ImageDataGenerator namiesto jednoduchého x_train a y_train. Validáčne dáta neaugmentujeme, niekedy to ale môže tiež byť užitočné. Problém nastáva ak si generátor ukladá nejaké parametre ako napríklad parametre na normalizáciu vstupu. Často je najlepšie napísať si vlastný generátor to budeme robiť nabudúce.\n"
      ]
    },
    {
      "cell_type": "code",
      "metadata": {
        "id": "0s7OMEu6jLyv",
        "colab_type": "code",
        "colab": {}
      },
      "source": [
        "from keras.preprocessing.image import ImageDataGenerator\n",
        "\n",
        "datagen = ImageDataGenerator(\n",
        "    width_shift_range=0.1,\n",
        "    height_shift_range=0.1,\n",
        "    shear_range=0.,\n",
        "    zoom_range=0.,\n",
        "    fill_mode='nearest',\n",
        "    cval=0.,\n",
        "    horizontal_flip=True,  # randomly flip images\n",
        "    preprocessing_function=None)\n",
        "\n",
        "# Toto voláme aby sme nastavili paramtere pre iné parametre generátora\n",
        "# ako napríklad úpravu dát na stredovanie, alebo delenie št. odchylkou\n",
        "# Pozn. ak spravíme toto tak pri aplikácii siete je nutné obraz najprv\n",
        "# upraviť pomocou x = datagen.standarize(np.copy(x))\n",
        "# datagen.fit(x_train)\n",
        "\n",
        "\n",
        "model = Sequential()\n",
        "model.add(Conv2D(32, (3, 3), padding='same', input_shape=(32,32,3), activation='relu'))\n",
        "model.add(Conv2D(32, (3, 3), activation='relu'))\n",
        "model.add(MaxPooling2D(pool_size=(2, 2)))\n",
        "\n",
        "model.add(Conv2D(64, (3, 3), padding='same', activation='relu'))\n",
        "model.add(Conv2D(64, (3, 3), activation='relu'))\n",
        "model.add(MaxPooling2D(pool_size=(2, 2)))\n",
        "\n",
        "model.add(Flatten())\n",
        "model.add(Dense(512, activation='relu'))\n",
        "model.add(Dense(num_classes, activation='softmax'))\n",
        "\n",
        "model.compile(loss='categorical_crossentropy',\n",
        "              optimizer='adam',\n",
        "              metrics=['accuracy'])\n",
        "\n",
        "# namiesto fit používame fit_generator, ktorý vytvoríme pomocou metódy\n",
        "# flow na trénovacie dáta. Validačné necháme tak\n",
        "model.fit_generator(datagen.flow(x_train, y_train,\n",
        "                                  batch_size=32),\n",
        "                    epochs=30,\n",
        "                    validation_data=(x_val, y_val),\n",
        "                    workers=4)"
      ],
      "execution_count": 0,
      "outputs": []
    },
    {
      "cell_type": "markdown",
      "metadata": {
        "id": "7Vi14Cc4r4em",
        "colab_type": "text"
      },
      "source": [
        "## Dropout\n",
        "\n",
        "Minule sme si ukazovali L1 a L2 regularizáciu. Dnes si ukážeme metódu Dropout. Tá spočíva v tom, že niektoré prepojenia (s pravedepodobnosťou $p$) sieť nastaví na nulu. To zabráni koadaptácii príznakov. Teda ak náhodou dva príznaky reprezentujú do isté, tak by sa nemali šancu naučiť každý niečo iné, lebo vždy budú ich gradienty a teda aj zmena po každom kroku rovnaká (aspoň približne). Ak však pridáme dropout majú tieto príznaky možnosť sa odlúčiť od seba, čo je pozitívne. Iný pohľad na vec je taký, že vlastne trénujeme viacero modelov naraz (tj. toľko modelov koľko existuje kombinácii kde sa niektore váhy ignorujú) a na konci ich spojíme a spriemerujeme ich výsledok."
      ]
    },
    {
      "cell_type": "code",
      "metadata": {
        "id": "EWfHuW-gjptv",
        "colab_type": "code",
        "colab": {}
      },
      "source": [
        "model = Sequential()\n",
        "model.add(Conv2D(32, (3, 3), padding='same', input_shape=(32,32,3), activation='relu'))\n",
        "model.add(Conv2D(32, (3, 3), activation='relu'))\n",
        "model.add(MaxPooling2D(pool_size=(2, 2)))\n",
        "model.add(Dropout(0.25))\n",
        "\n",
        "model.add(Conv2D(64, (3, 3), padding='same', activation='relu'))\n",
        "model.add(Conv2D(64, (3, 3), activation='relu'))\n",
        "model.add(MaxPooling2D(pool_size=(2, 2)))\n",
        "model.add(Dropout(0.25))\n",
        "\n",
        "model.add(Flatten())\n",
        "model.add(Dense(512, activation='relu'))\n",
        "model.add(Dropout(0.5))\n",
        "model.add(Dense(num_classes, activation='softmax'))\n",
        "\n",
        "model.compile(loss='categorical_crossentropy',\n",
        "              optimizer='adam',\n",
        "              metrics=['accuracy'])\n",
        "\n",
        "model.fit_generator(datagen.flow(x_train, y_train,\n",
        "                                  batch_size=32),\n",
        "                    epochs=30,\n",
        "                    validation_data=(x_val, y_val),\n",
        "                    workers=4)"
      ],
      "execution_count": 0,
      "outputs": []
    },
    {
      "cell_type": "markdown",
      "metadata": {
        "id": "3DO3AZK0vjXD",
        "colab_type": "text"
      },
      "source": [
        "## BatchNormalization\n",
        "\n",
        "Normalizácia dávok rieši problém vnútorného kovariančného posunu (internal covarience shift) v rámci siete. Ten spôsobuje že príznaky nemajú vhodnú distribúciu v rámci siete. To je dôležité najmä pre hlbšie siete.\n",
        "\n",
        "BatchNorm funguje tak, že pre každý minibatch sa vypočíta stredná hodnota a štandardná odchylka príznakov na danej vrstve. Príznaky sa potom normalizujú odčítanim priemeru a podelením štd. odchylkou:\n",
        "\n",
        "$$\\hat{x} = \\frac{x - \\bar{x}}{\\sqrt{\\sigma^2(x) + \\epsilon}}.$$\n",
        "\n",
        "Keďže však normálna distribúcia nieje vždy žiadúca má táto vrstva ešte dva trénovateľné parametre $\\gamma$ a $\\beta$:\n",
        "\n",
        "$$y = \\gamma \\hat{x} + \\beta.$$\n",
        "\n",
        "To umožní naučiť sa iný tvar distribúcie, ktorý je pre sieť vhodnejší.\n",
        "\n",
        "Pri inferencii nedostávame dávku, resp. ju nedostávame náhodne. Preto si vrstva po trénovaní pamätá priemer a štd. odchylku.\n",
        "\n",
        "BatchNorm sa bežne aplikuje pred activačnou funkciou. Doteraz sme ju mali určenú v inej vrstve teraz ju spravíme samostatne.\n",
        "\n"
      ]
    },
    {
      "cell_type": "code",
      "metadata": {
        "id": "Tj0-mIMyxJa8",
        "colab_type": "code",
        "colab": {}
      },
      "source": [
        "model = Sequential()\n",
        "model.add(Conv2D(32, (3, 3), padding='same', input_shape=input_shape=(32,32,3)))\n",
        "model.add(BatchNormalization())\n",
        "model.add(Activation('relu'))\n",
        "model.add(Conv2D(32, (3, 3)))\n",
        "model.add(BatchNormalization())\n",
        "model.add(Activation('relu'))\n",
        "model.add(MaxPooling2D(pool_size=(2, 2)))\n",
        "model.add(Dropout(0.25))\n",
        "\n",
        "model.add(Conv2D(64, (3, 3), padding='same'))\n",
        "model.add(BatchNormalization())\n",
        "model.add(Activation('relu'))\n",
        "model.add(Conv2D(64, (3, 3)))\n",
        "model.add(BatchNormalization())\n",
        "model.add(Activation('relu'))\n",
        "model.add(MaxPooling2D(pool_size=(2, 2)))\n",
        "model.add(Dropout(0.25))\n",
        "\n",
        "model.add(Flatten())\n",
        "model.add(Dense(512))\n",
        "model.add(Activation('relu'))\n",
        "model.add(Dropout(0.5))\n",
        "model.add(Dense(num_classes))\n",
        "model.add(Activation('softmax'))"
      ],
      "execution_count": 0,
      "outputs": []
    },
    {
      "cell_type": "markdown",
      "metadata": {
        "id": "Xfk96LBTzSoW",
        "colab_type": "text"
      },
      "source": [
        "# Domáca úloha\n",
        "\n",
        "Prvá domáca úloha bude spočívať v praktickom testovaní vecí, ktoré sme si práve spomínali. Je rozložená na viaceré časti. Výstupom z úlohy môže byť buď viacero notebookov, alebo python skriptov, ktorými ste spúštali experimenty. Výstupom má byť takisto pdf súbor s výsledkami a grafmi, ktoré budú demonštrovať vaše tvrdenia.\n",
        "\n",
        "Jadrom domácej úlohy bude trénovanie siete na datasete Cifar-10. Vždy potom budete porovnávať ako rôzne modifikácie siete fungujú voči iným prípadne voči nejakému baselinu. Úloha sa bude skladať z viacerých častí.\n",
        "\n",
        "### Základný model (1b)\n",
        "\n",
        "Cieľ je navrhnúť idálne čo najrýchlejší model, ktorý bude dosahovať cca. 70 percentnú presnosť na datasete Cifar-10. Tento model bude slúžiť ako baseline pre ďalšie modifikácie. V rámci modelu použite optimalizátor Adam a aktivácie ReLU. Začiatok modelu by mal pozostávať zo zopár konvolučných a poolingových vrstiev. Na konci by mala byť plne prepojená časť.\n",
        "\n",
        "V naselujúcich podúlohách je nutné zmeniť vždy nejakú časť modelu a porovnať ich navzájom pomocou grafov, ktoré ukazujú vývoj validačnej presnosti a chyby. Namiesto grafov je možné použiť tabuľku, ale v nej je zmysluplné uvádzať len hodnoty na konci trénovania.\n",
        "\n",
        "### Aktivácie (3b)\n",
        "\n",
        "Vyskúšajte vymeniť aktivačné funkcie. Otestujte sigmoid, tanh, ELU a PReLU. LeakyReLU otestujte pre tri rôzne hodnoty parametru alpha (napr. 0.3, 0.1, 0,03). PReLU a LeakyReLU je treba použiť špeciálne podľa [dokumentácie](https://keras.io/layers/advanced-activations/)\n",
        "\n",
        "### Optimalizácia (6b)\n",
        "\n",
        "Otestujte trénovanie pomocou optimalizátora Adam, SGD a RMSProp. Pre Adam a RMSProp otestujte 3 rôzne kroky učenia a dve iné nastavenia ostatných parametrov (krok učenia nechajte fixný). Pre SGD otestujte 6 rôznych krokov učenia. Tu je najlepšie vyrobiť graf.\n",
        "\n",
        "Jednu metódu si vyberte a otestujte pre ňu 4 rôzne veľkosti minibatchov.\n",
        "\n",
        "### Dropout a Augmentácia (5b)\n",
        "\n",
        "Otestujte regularizačné metódy pomocou Dropoutu a Augmentácie. Všetko testujte pre dva prípady v jednom použijete bežný split na train/val a v druhom nechajte v trénovacej množine iba prvých 1000 príkladov. Uvedomte si, že počet trénovacích krokov je pre druhý prípad menší použite preto viac epôch, alebo nastavte trénovanie na kroky nie podľa minibatch.\n",
        "\n",
        "Dropout otestujte tak, že bude najprv len v plne prepojenej vrstve (p = 0.5) a potom aj po konvolučných vrstvách (p = 0.2). Otestujete tiež ďalšie 3 rôzne rozmiestnenie a hodnoty pre Dropout (rôzne p pre konvolučné vrstvy, vynechanie dropout atď.).\n",
        "\n",
        "Augmentáciu testujte pre 3 rôzne nastavanie pre oba prípady. Môžte byť aj kreatívny, ale malo by to mať aspoň nejaký zmysel.\n",
        "\n",
        "### Hlboká sieť (5b)\n",
        "\n",
        "Navrhnite hlbokú (stačí aj úzku, ale nech má aspoň 11 vrstiev) sieť. Otestujte ju najprv bez BatchNorm, reziduálnych alebo dense prepojení, alebo prídavných trenovacích vrstiev. Nakoniec otestujte aspoň dva z týchto prístupov, tak aby ste mali aspoň 4 rôzne modely (tj. rôzne rozmiestnenie týchto prvkov).\n",
        "\n",
        "Pozn.: Ak chcete testovať reziduálne, alebo dense prepojenia, tak navrhnite sieť tak, aby ich bolo kam dať.\n",
        "\n",
        "### Najlepší model (3b)\n",
        "\n",
        "Vytvorte model, ktorý dosiahne najlepší vylsedok, aký len viete. Tieto body sú navyše a nerátajú sa do celkového počtu bodov. Bude sa prihliadať na to aké modely odovzdali ostatní. Model zašlite vo formáte h5 v prílohe spolu s notebookmi a pdfkom. Váš postup pre tvorbu modelu popíšte. Môžete sa inšpirovať internetom, ale nesťahujte ani nepoužívajte predtrénované modely. Ak už sa inšpirijete niečim až príliš, tak aspoň popíšte prečo by práve ten model mal fungovať dobre (tu prosím nepíšte, že preto že blog to tvrdí).\n",
        "\n",
        "## Hodnotenie\n",
        "\n",
        "Úloha je relatívne priamočiara, keďže jej cieľ je skôr nadobudnutie skúseností. Problém bude skôr s časom. Pri úlohách si môžete väčšinou vybrať viacere parametre. Preto nevadí ak niektoré z nich budú nezmyselné ako napr. veľmi veľký krok učenia, keďže vedieť co nefunguje je tiež dôležité. Budem však strhávať body ak v nejakej sekcii nebudú skoro žiadne nastavenia, ktoré dávaju zmysel/dobré výsledky. Ideálne by bolo ak by ste sa snažili napr. po prvých troch nastaveniach snažili nájsť to \"najlepšie\". Súčasťou pdfka, ktoré odovzdáte bude aj komentár, ak sa v ňom vyskytne nejaký nezmysel, tak tiež budem strhávať.\n",
        "\n",
        "## Odovzdávanie\n",
        "\n",
        "Úlohu odovzdajte v zipe s notebookmi/skriptami, pdfkom s výsledkami a vašim modelom na mailovú adresu kocurvik@gmail.com Pdfko rozdelte na sekcie ako tu a ideálne aj do podeskcií kde to dáva zmysel. K výsledkom vždy vypíšte komentár ako dopadli.\n",
        "\n",
        "Deadline je do **30.10. 23:59**. Ak nebudete stíhať, tak pri neskoršom odovzdaní budem strhávať body.\n",
        "\n",
        "\n"
      ]
    },
    {
      "cell_type": "markdown",
      "metadata": {
        "id": "zc2nBpVeIQhQ",
        "colab_type": "text"
      },
      "source": [
        "# Funkčné modely v kerase\n",
        "\n",
        "Teraz si ukážeme ako vytvoriť tzv. funkčný model v kerase. Ten umožňuje zostaviť výpočtový graf inak ako sekvenčne. Funguje to tak, že všetky vrstvy (aj modely, ktoré sa dajú použiť ako vrstvy) sú callable. Ak ich zavoláme na nejaký inú vstrtvu tak sa medzi nimi vytvorí prepojenie v grafe. Jednu inštanciu vrstvy môžeme použiť aj opakovane vtedy sa použijú rovnaké váhy. Ako príklad si uvedieme jednoduchý model pre dataset MNIST."
      ]
    },
    {
      "cell_type": "code",
      "metadata": {
        "id": "Sra2wdjlOMQq",
        "colab_type": "code",
        "colab": {}
      },
      "source": [
        "from keras.datasets import mnist\n",
        "\n",
        "(x, y), (x_test, y_test) = mnist.load_data()\n",
        "x = np.reshape(x,(-1,784)).astype(np.float32) / 255\n",
        "x_test = np.reshape(x_test,(-1,784)).astype(np.float32) / 255\n",
        "y = keras.utils.to_categorical(y)\n",
        "y_test = keras.utils.to_categorical(y_test)\n",
        "\n",
        "x_train = x[:50000]\n",
        "y_train = y[:50000]\n",
        "x_val = x[50000:]\n",
        "y_val = y[50000:]"
      ],
      "execution_count": 0,
      "outputs": []
    },
    {
      "cell_type": "markdown",
      "metadata": {
        "id": "ttr4_6jxOvQK",
        "colab_type": "text"
      },
      "source": [
        "Aby sme mohli vytvoriť vstup potrebujeme vrstvu Input. Vstupov vo funkčnom modeli môže byť viacej. Model potom vytvoríme pomocou vytvorenia inštancie model, ktorá ma ako argumenty vstupy a výstupy."
      ]
    },
    {
      "cell_type": "code",
      "metadata": {
        "id": "13aKSGlVOrX4",
        "colab_type": "code",
        "colab": {}
      },
      "source": [
        "from keras.layers import Input\n",
        "from keras.models import Model"
      ],
      "execution_count": 0,
      "outputs": []
    },
    {
      "cell_type": "code",
      "metadata": {
        "id": "1Gr9WpX2POwr",
        "colab_type": "code",
        "colab": {}
      },
      "source": [
        "inputs = Input(shape=(784,))\n",
        "\n",
        "output_1 = Dense(64, activation='relu')(inputs)\n",
        "output_2 = Dense(64, activation='relu')(output_1)\n",
        "predictions = Dense(10, activation='softmax')(output_2)\n",
        "\n",
        "model = Model(inputs=inputs, outputs=predictions)\n",
        "model.compile(optimizer='rmsprop',\n",
        "              loss='categorical_crossentropy',\n",
        "              metrics=['accuracy'])\n",
        "model.fit(x_train, y_train) "
      ],
      "execution_count": 0,
      "outputs": []
    },
    {
      "cell_type": "markdown",
      "metadata": {
        "id": "bv0REZeMQ8w5",
        "colab_type": "text"
      },
      "source": [
        "Na tomto zatiaľ nieje nič zaujímavé avšak model môžeme vyrobiť aj komplikovanejší. Napríklad budeme chcieť aby náš model robil dve veci a to klasifikoval číslo a zároveň odhadol, či je párne alebo nepárne.\n",
        "\n",
        "Najprv pripravíme lable pre to, či je číslo párne. "
      ]
    },
    {
      "cell_type": "code",
      "metadata": {
        "id": "EdQB5b-XSBY4",
        "colab_type": "code",
        "colab": {}
      },
      "source": [
        "def odd_even(y):\n",
        "  arg = np.argmax(y, axis = -1)\n",
        "  return np.where(arg % 2 == 0, 1, 0)\n",
        "\n",
        "y2 = odd_even(y)\n",
        "y2_train = y2[:50000]\n",
        "y2_val = y2[50000:]\n",
        "y2_test = odd_even(y_test)\n",
        "\n",
        "print(y2_val)"
      ],
      "execution_count": 0,
      "outputs": []
    },
    {
      "cell_type": "markdown",
      "metadata": {
        "id": "stohPGVpfNFV",
        "colab_type": "text"
      },
      "source": [
        "Teraz vytvoríme model. Keďže budeme chcieť aby sme si pozreli ako model vyzerá, tak si vrstvy pomenujeme, aby sme sa v ňom vyznali.\n",
        "\n",
        "Na konci potom máme dva výstupy. Do Model potom posielame zoznam s výstupnými tenzormi a ako loss posúvame do metódy compile zoznam s cenovými funkciami. Do metódy fit potom tiež posielame zoznam s trénovacími labelmi."
      ]
    },
    {
      "cell_type": "code",
      "metadata": {
        "id": "-5Z4_VKJTDKa",
        "colab_type": "code",
        "colab": {}
      },
      "source": [
        "input_1 = Input(shape=(784,), name='input_1')\n",
        "hidden_1_out = Dense(30, activation='relu', name='hidden_1')(input_1)\n",
        "hidden_2_out = Dense(30, activation='relu', name='hidden_2')(hidden_1_out)\n",
        "\n",
        "hidden_class_out = Dense(20, activation='relu', name='hidden_class')(hidden_2_out)\n",
        "predict_class_out = Dense(10, activation='softmax', name='predict_class')(hidden_class_out)\n",
        "\n",
        "hidden_pair_out = Dense(20, activation='relu', name='hidden_pair')(hidden_2_out)\n",
        "predict_pair_out = Dense(1, activation='sigmoid', name='predict_pair')(hidden_pair_out)\n",
        "\n",
        "model = Model(inputs=input_1, outputs=[predict_class_out, predict_pair_out])\n",
        "\n",
        "model.compile(optimizer='adam', loss= ['categorical_crossentropy', 'binary_crossentropy'], loss_weights=[0.2, 1], metrics=['accuracy'])\n",
        "\n",
        "print(model.summary())\n",
        "\n",
        "model.fit(x_train, [y_train, y2_train], validation_data = (x_val,[y_val, y2_val]), batch_size=32, epochs=10)"
      ],
      "execution_count": 0,
      "outputs": []
    },
    {
      "cell_type": "markdown",
      "metadata": {
        "id": "_7w6FNiaV836",
        "colab_type": "text"
      },
      "source": [
        "Model si môžeme aj vyzualizovať. Pomocou funkcie plot model."
      ]
    },
    {
      "cell_type": "code",
      "metadata": {
        "id": "RKKa1drlV6PW",
        "colab_type": "code",
        "colab": {}
      },
      "source": [
        "from keras.utils import plot_model\n",
        "plot_model(model, show_shapes=True)"
      ],
      "execution_count": 0,
      "outputs": []
    },
    {
      "cell_type": "markdown",
      "metadata": {
        "id": "afaCjpX8XNd3",
        "colab_type": "text"
      },
      "source": [
        "Model môžeme otestovať na testovacích dátach."
      ]
    },
    {
      "cell_type": "code",
      "metadata": {
        "id": "VmDkvpE1XSso",
        "colab_type": "code",
        "colab": {}
      },
      "source": [
        "for i in range(5):\n",
        "  out = model.predict(x_test[np.newaxis,i,:])\n",
        "  plt.imshow(np.reshape(x_test[i],(28,28)), cmap='gray')\n",
        "  plt.show()\n",
        "  print(np.argmax(out[0]))\n",
        "  print(out[1][0,0])"
      ],
      "execution_count": 0,
      "outputs": []
    },
    {
      "cell_type": "markdown",
      "metadata": {
        "id": "5BZx0-m1ZMbF",
        "colab_type": "text"
      },
      "source": [
        "## Úloha 1\n",
        "\n",
        "Vytvorte model, ktorý na vstup zoberie dve čísla a na výstupe bude klasifikovať do dvoch tried (0 a 1), či je ich súčet väčší ako 10, alebo nie. Normálne by sme dáta generovali generátorom, teraz nám však stačí ak si čísla nádhodne popárujeme. Poprehadzovanie hodnôt sa urobí pomocou permutácie indexu. Pozor je nutné permutovať x a y rovnako."
      ]
    },
    {
      "cell_type": "code",
      "metadata": {
        "id": "DochoWuhZpQs",
        "colab_type": "code",
        "colab": {}
      },
      "source": [
        "idxs = np.random.permutation(60000)\n",
        "x2 = x[idxs,:]\n",
        "y2 = y[idxs,:]\n",
        "\n",
        "idxs_test = np.random.permutation(10000)\n",
        "x2_test = x[idxs_test,:]\n",
        "y2_test = y[idxs_test,:]"
      ],
      "execution_count": 0,
      "outputs": []
    },
    {
      "cell_type": "markdown",
      "metadata": {
        "id": "hSMQN78sa20q",
        "colab_type": "text"
      },
      "source": [
        "Teraz vyrobte funkciou ktorá vám vyrobí y pre váš model."
      ]
    },
    {
      "cell_type": "code",
      "metadata": {
        "id": "US8fnS0Ga-Mu",
        "colab_type": "code",
        "colab": {}
      },
      "source": [
        "def get_above10(y1, y2):\n",
        "  ..."
      ],
      "execution_count": 0,
      "outputs": []
    },
    {
      "cell_type": "code",
      "metadata": {
        "id": "lHu6dtVUbGdR",
        "colab_type": "code",
        "colab": {}
      },
      "source": [
        "y_above10 = get_above10(y,y2)\n",
        "y_above10_test = get_above10(y_test,y2_test)\n",
        "\n",
        "x2_train = x2[:50000]\n",
        "y_above10_train = y_above10[:50000]\n",
        "x2_val = x2[50000:]\n",
        "y_above10_val = y_above10[50000:]"
      ],
      "execution_count": 0,
      "outputs": []
    },
    {
      "cell_type": "markdown",
      "metadata": {
        "id": "E4EkxkXCcPlT",
        "colab_type": "text"
      },
      "source": [
        "V nasledujúcom bloku vytvorte kód sieť ktorá bude mať dva vstupy. Tieto dva vstupy potom samostatne pôjdu do vrstiev s rovnakými váhami. Teda je nutné vyrobiť inštanciu nejakej vrstvy a raz ju zavolať na jeden vstupný tenzor a potom na druhý. Takéto \"spoločné ale samostatné\" vrstvy budeme mať dve. Ak to nieje jasné pozrite si [dokumentáciu.](https://keras.io/getting-started/functional-api-guide/)\n",
        "\n",
        "Následne je nutné tieto dve vetvy spojiť. To spravíme pomocou vrsvty keras.layers.concatenate, ktorá má ako prvý argument zoznam vrstiev na spojenie.\n",
        "\n",
        "Zvyšok je potom jednoduchý. Trénovanie je podobné predchádzajúcemu príkladu, zoznam však tentokrát bude vždy na vstupoch."
      ]
    },
    {
      "cell_type": "code",
      "metadata": {
        "id": "jNdrnfrEcwKf",
        "colab_type": "code",
        "colab": {}
      },
      "source": [
        "...\n"
      ],
      "execution_count": 0,
      "outputs": []
    },
    {
      "cell_type": "markdown",
      "metadata": {
        "id": "Vk2M3psdcwsh",
        "colab_type": "text"
      },
      "source": [
        "Váš výtvor si overíme."
      ]
    },
    {
      "cell_type": "code",
      "metadata": {
        "id": "IgBhYkWldpi6",
        "colab_type": "code",
        "colab": {}
      },
      "source": [
        "for i in range(5):\n",
        "  out = model.predict([x_test[np.newaxis,i,:], x_test[np.newaxis,i+500,:]])\n",
        "  plt.imshow(np.reshape(x_test[i],(28,28)), cmap='gray')\n",
        "  plt.show()\n",
        "  plt.imshow(np.reshape(x_test[i+500],(28,28)), cmap='gray')\n",
        "  plt.show()\n",
        "  print(out[0,0])"
      ],
      "execution_count": 0,
      "outputs": []
    },
    {
      "cell_type": "markdown",
      "metadata": {
        "id": "7ALzyEpYqwrk",
        "colab_type": "text"
      },
      "source": [
        "## Úloha 2\n",
        "\n",
        "Pre túto aj ďalšie úlohy budeme modifikovať kód siete uvedený nižšie. Takisto sa vrátime k datasetu Cifar-10\n",
        "\n",
        "V tejto úlohe bude cieľom vytvoriť tzv. reziduálne prepojenie. To je charakterizované ako sčítanie výstupu jednej vrstvy s nejakou vrstvou ktorá je v modeli neskôr. Na to aby to šlo samozrejme musia mať rovnaké rozmery. Pri konvolúciach potom používame padding='same'. Ak chceme mať rôzny počet kanálov, tak použijeme $1 \\times 1$ konvolúciu. Na sčítanie výstupov z dvoch vrstiev použite keras.layers.add\n",
        "\n",
        "![alt text](https://miro.medium.com/max/1226/1*zS2ChIMwAqC5DQbL5yD9iQ.png)\n",
        "\n",
        "Kto skončí môže spraviť namiesto resnet layers tzv. dense bloky kde sa namiesto súčtu vrstvy len spoja teda použije sa keras.layers.concatenate."
      ]
    },
    {
      "cell_type": "code",
      "metadata": {
        "id": "9jkdtPIhv59x",
        "colab_type": "code",
        "colab": {}
      },
      "source": [
        "from keras.layers import GlobalAveragePooling2D"
      ],
      "execution_count": 0,
      "outputs": []
    },
    {
      "cell_type": "code",
      "metadata": {
        "id": "o7UO-VJztYnJ",
        "colab_type": "code",
        "colab": {}
      },
      "source": [
        "(x, y), (x_test, y_test) = cifar10.load_data()\n",
        "\n",
        "num_classes = 10\n",
        "\n",
        "y = keras.utils.to_categorical(y, num_classes)\n",
        "y_test = keras.utils.to_categorical(y_test, num_classes)\n",
        "\n",
        "x = x.astype('float32')\n",
        "x_test = x_test.astype('float32')\n",
        "x /= 255\n",
        "x_test /= 255\n",
        "\n",
        "x_val = x[:10000]\n",
        "y_val = y[:10000]\n",
        "x_train = x[10000:]\n",
        "y_train = y[10000:]"
      ],
      "execution_count": 0,
      "outputs": []
    },
    {
      "cell_type": "code",
      "metadata": {
        "id": "rq7CXNd8eBzI",
        "colab_type": "code",
        "colab": {}
      },
      "source": [
        "def res_layer(h_filters, out_filters, reduce_vol = False):\n",
        "  \n",
        "  def _f(x):\n",
        "    ...\n",
        "  return _f"
      ],
      "execution_count": 0,
      "outputs": []
    },
    {
      "cell_type": "code",
      "metadata": {
        "id": "b7L6k0uu_pXD",
        "colab_type": "code",
        "colab": {}
      },
      "source": [
        ""
      ],
      "execution_count": 0,
      "outputs": []
    },
    {
      "cell_type": "code",
      "metadata": {
        "id": "sRGxB8oKtRGL",
        "colab_type": "code",
        "colab": {}
      },
      "source": [
        "input_1 = Input(shape=(32,32,3))\n",
        "out_1 = Conv2D(32,(3,3), padding='same', activation='relu')(input_1)\n",
        "out_2 = res_layer(32,32)(out_1)\n",
        "out_3 = res_layer(32,32)(out_2)\n",
        "out_4 = res_layer(64,32(out_3)\n",
        "\n",
        "out_4_1 = GlobalAveragePooling2D()(out_4)\n",
        "out_4_2 = Dense(64, activation='relu')(out_4_1)\n",
        "out_4_3 = Dense(32, activation='relu')(out_4_2)\n",
        "out_4_3 = Dense(10, activation='softmax')(out_4_3)\n",
        "\n",
        "model = Model(input=input_1, output=out_4_3)\n",
        "\n",
        "model.compile(optimizer='adam', loss = 'categorical_crossentropy', metrics= ['accuracy'])\n",
        "print(model.summary())\n",
        "\n",
        "model.fit(x_train, y_train,\n",
        "          batch_size=32,\n",
        "          epochs=30,\n",
        "          validation_data=(x_val, y_val),\n",
        "          shuffle=True)"
      ],
      "execution_count": 0,
      "outputs": []
    },
    {
      "cell_type": "markdown",
      "metadata": {
        "id": "VBzx7lLMn8U2",
        "colab_type": "text"
      },
      "source": [
        "Teraz doimplementujte aj prípad kde budeme redukovať rozmery obrazu. To spravíme pomocou stridu pri prvej vrsvte bloku. Pri sčítaní potom na pôvodný vstup ešte aplikujeme znova stride. Upravte funkciu ktorá vráti blok, tak aby toto robila ak bude reduce_vol True."
      ]
    },
    {
      "cell_type": "code",
      "metadata": {
        "id": "3lG3auCun7RX",
        "colab_type": "code",
        "colab": {}
      },
      "source": [
        "input_1 = Input(shape=(32,32,3))\n",
        "out_1 = Conv2D(32,(3,3), padding='same', activation='relu')(input_1)\n",
        "out_2 = res_layer(32,32)(out_1)\n",
        "out_3 = res_layer(64,32)(out_2)\n",
        "out_4 = res_layer(64,64,reduce_vol=True)(out_3)\n",
        "\n",
        "out_5 = res_layer(64,64)(out_4)\n",
        "out_6 = res_layer(128,64)(out_5)\n",
        "out_7 = res_layer(128,128,reduce_vol=True)(out_6)\n",
        "\n",
        "out_7_1 = GlobalAveragePooling2D()(out_7)\n",
        "out_7_2 = Dense(64, activation='relu')(out_7_1)\n",
        "out_7_3 = Dense(32, activation='relu')(out_7_2)\n",
        "out_7_3 = Dense(10, activation='softmax')(out_7_3)\n",
        "\n",
        "model = Model(input=input_1, output=out_7_3)\n",
        "\n",
        "model.compile(optimizer='adam', loss = 'categorical_crossentropy', metrics= ['accuracy'])\n",
        "print(model.summary())\n",
        "\n",
        "model.fit(x_train, y_train,\n",
        "          batch_size=32,\n",
        "          epochs=30,\n",
        "          validation_data=(x_val, y_val),\n",
        "          shuffle=True)"
      ],
      "execution_count": 0,
      "outputs": []
    },
    {
      "cell_type": "markdown",
      "metadata": {
        "id": "rCvuadgK5j0d",
        "colab_type": "text"
      },
      "source": [
        "## Úloha 3\n",
        "\n",
        "Na trénovanie hlbokých sietí dávnejšie používali tzv. prídavné (auxillary) trénovacie vrstvy ktoré majú vlastnú cenovú funkciu. Navrhnite hlbšiu neurónovú sieť a pridajte jej prídavné výstupné vrstvy. "
      ]
    },
    {
      "cell_type": "code",
      "metadata": {
        "id": "d9GtEjOL5-2W",
        "colab_type": "code",
        "colab": {}
      },
      "source": [
        "..."
      ],
      "execution_count": 0,
      "outputs": []
    }
  ]
}