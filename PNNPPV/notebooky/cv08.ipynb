{
  "nbformat": 4,
  "nbformat_minor": 0,
  "metadata": {
    "colab": {
      "name": "cv08.ipynb",
      "provenance": [],
      "collapsed_sections": [],
      "toc_visible": true,
      "include_colab_link": true
    },
    "kernelspec": {
      "name": "python3",
      "display_name": "Python 3"
    },
    "accelerator": "GPU"
  },
  "cells": [
    {
      "cell_type": "markdown",
      "metadata": {
        "id": "view-in-github",
        "colab_type": "text"
      },
      "source": [
        "<a href=\"https://colab.research.google.com/github/kocurvik/edu/blob/master/PNNPPV/notebooky/cv08.ipynb\" target=\"_parent\"><img src=\"https://colab.research.google.com/assets/colab-badge.svg\" alt=\"Open In Colab\"/></a>"
      ]
    },
    {
      "cell_type": "markdown",
      "metadata": {
        "id": "NlINbptx_CDZ",
        "colab_type": "text"
      },
      "source": [
        "# 8. cvičenie - Vizualizácia\n",
        "\n",
        "Na dnešnom cvičení si prejdeme metódy vizualizácie dát. Najprv si zobrazíme dôležité časti siete. Potom si zobrazíme ako fungujú filtre."
      ]
    },
    {
      "cell_type": "markdown",
      "metadata": {
        "id": "8RZwi9aiAJ1-",
        "colab_type": "text"
      },
      "source": [
        "## Vizualizácia častí obrazu dôležitých pre sieť\n",
        "\n",
        "Teraz si skúsime overiť ktoré časti v obraze sú pre klasifikáciu dôležité. To spravíme tak, že si vezmeme testovací obrázok zistíme ako sieť klasifikuje. Potom do obrázka budeme vkladať na rôzne miesta čierny štvorec. Potom zistíme ako veľmi sa zmenila predpoveď modelu. Z týchto zmien potom spravíme heatmapu."
      ]
    },
    {
      "cell_type": "code",
      "metadata": {
        "id": "J_BBXq6y-ow7",
        "colab_type": "code",
        "colab": {}
      },
      "source": [
        "import keras\n",
        "import cv2\n",
        "import numpy as np\n",
        "from keras.applications.resnet50 import preprocess_input, decode_predictions\n",
        "import matplotlib.pyplot as plt"
      ],
      "execution_count": 0,
      "outputs": []
    },
    {
      "cell_type": "markdown",
      "metadata": {
        "id": "mrZBoP3rGV2F",
        "colab_type": "text"
      },
      "source": [
        "Toto spravíme s predtrénovaným modelom."
      ]
    },
    {
      "cell_type": "code",
      "metadata": {
        "id": "Tp6kx6zyGUuk",
        "colab_type": "code",
        "colab": {}
      },
      "source": [
        "resnet = keras.applications.resnet.ResNet50()"
      ],
      "execution_count": 0,
      "outputs": []
    },
    {
      "cell_type": "markdown",
      "metadata": {
        "id": "7LVOYMyYOPmP",
        "colab_type": "text"
      },
      "source": [
        "Načítame si testovací obrázok a zmeníme jeho rozmery."
      ]
    },
    {
      "cell_type": "code",
      "metadata": {
        "id": "xRnmRsRiL0jX",
        "colab_type": "code",
        "colab": {}
      },
      "source": [
        "test_imgs = []\n",
        "!wget https://pixnio.com/free-images/2017/06/08/2017-06-08-13-53-59-900x576.jpg\n",
        "test_imgs.append(cv2.resize(cv2.imread('2017-06-08-13-53-59-900x576.jpg'),(224,224)))\n",
        "!wget https://storage.needpix.com/rsynced_images/diver-1881751_1280.jpg\n",
        "test_imgs.append(cv2.resize(cv2.imread('diver-1881751_1280.jpg'),(224,224)))\n",
        "!wget https://cdn.pixabay.com/photo/2017/09/22/23/24/white-stork-2777489_960_720.jpg\n",
        "test_imgs.append(cv2.resize(cv2.imread('white-stork-2777489_960_720.jpg'),(224,224)))\n",
        "!wget https://upload.wikimedia.org/wikipedia/commons/thumb/8/84/Croatia_police_van_%2804%29.JPG/800px-Croatia_police_van_%2804%29.JPG\n",
        "test_imgs.append(cv2.resize(cv2.imread('800px-Croatia_police_van_(04).JPG'),(224,224)))\n"
      ],
      "execution_count": 0,
      "outputs": []
    },
    {
      "cell_type": "markdown",
      "metadata": {
        "id": "neOXUgLROUgA",
        "colab_type": "text"
      },
      "source": [
        "Pred vstupom do siete ešte aplikujeme predspracovanie, aby to korešpondovalo s natrénovanou sieťou. **Treba si taktiež dať pozor na to či je formát v BGR ako to má OpenCV, alebo RGB!**"
      ]
    },
    {
      "cell_type": "code",
      "metadata": {
        "id": "le7hrl_LHo77",
        "colab_type": "code",
        "colab": {}
      },
      "source": [
        "pred = resnet.predict(preprocess_input(test_imgs[0])[None, :, :, :])\n",
        "print(np.argmax(pred[0]))\n",
        "print(decode_predictions(pred)[0])"
      ],
      "execution_count": 0,
      "outputs": []
    },
    {
      "cell_type": "markdown",
      "metadata": {
        "id": "R-fMH8vx3_8C",
        "colab_type": "text"
      },
      "source": [
        "Túto funkciu napíšte tak aby vrátila heatmapu veľkosti $rectangle\\_num \\times rectangle\\_num$. Jednotlivé elementy heatmapy budú reprezentovať to ako veľmi sa zmení predikcia pre pôvodnú triedu obrázku ak na korešpondujúce miesto v obrázku pridáme čierny štvorec veľkosti $rectangle\\_size \\times rectangle\\_size$.\n",
        "\n",
        "Pri implementácii skúste využiť to, že metóda model.predict dokáže spracovať viacero obrázkov naraz ak ich poukladáte \"na seba\" podobne ako pri generovaní batchu."
      ]
    },
    {
      "cell_type": "code",
      "metadata": {
        "id": "HeXbPdTROj5W",
        "colab_type": "code",
        "colab": {}
      },
      "source": [
        "def generate_heatmap(img, model, rectangle_num, rectangle_size):\n",
        "  heatmap = np.zeros([rectangle_num, rectangle_num])\n",
        "  return heatmap"
      ],
      "execution_count": 0,
      "outputs": []
    },
    {
      "cell_type": "markdown",
      "metadata": {
        "id": "oV8K0GLT4xt8",
        "colab_type": "text"
      },
      "source": [
        "Tento kód by mal zobraziť heatmapy pre vybrané obrázky."
      ]
    },
    {
      "cell_type": "code",
      "metadata": {
        "id": "FL_OxjL0PqYN",
        "colab_type": "code",
        "colab": {}
      },
      "source": [
        "for test_img in test_imgs:\n",
        "  hmap = generate_heatmap(test_img, resnet, 20, 9)\n",
        "  plt.imshow(hmap,cmap='gray')\n",
        "  plt.show()\n",
        "  plt.imshow(test_img)\n",
        "  plt.show()"
      ],
      "execution_count": 0,
      "outputs": []
    },
    {
      "cell_type": "markdown",
      "metadata": {
        "id": "Y_koewyAw6l1",
        "colab_type": "text"
      },
      "source": [
        "## DeepDream\n",
        "\n",
        "V tejto časti si predvedieme základný princíp metódy DeepDream, ktorá núti sieť \"halucinovať\" silnejšie príznaky. Tu si ukážeme len základný algoritmus. V skutočnosti sa používa napríklad vo viacerych škálach a medzi jednotlivými sa obrázok ešte posúva. Plnú verziu nájdete v [notebooku pre DOD 2019](https://github.com/kocurvik/edu/blob/master/DOD/DOD_2019_DeepDream.ipynb), alebo v [originálnej verzii](https://research.google.com/seedbank/seed/deepdream).\n",
        "\n",
        "Princíp DeepDreamu je jednoduchý. Vyberieme časť siete (stačí aj jeden kanál nejakej feature mapy) a jeho hodnotu (jej štvorec) si označíme ako cenovú funkciu. Potom spočítame gradient obrazu voči tejto cene. To samozrejme framework dokáže jednoducho. Vďaka gradientu potom môžme modifikovať obraz tak aby sa naša cenová funkcia zväčšovala. Tým dostaneme obraz, ktorý aktivuje danú časť siete čo najviac.\n",
        "\n",
        "Na to aby to fungovalo budeme potrebovať znova volať backend. Užitočná bude funkcia K.gradients. Takisto budeme potrebovať vedieť nájsť časti siete ktoré nás zaujímajú. To docielime pomocou model.layers a vstupný obraz dostaneme pomocou model.input.\n",
        "\n"
      ]
    },
    {
      "cell_type": "code",
      "metadata": {
        "id": "bT59owsr7RqA",
        "colab_type": "code",
        "colab": {}
      },
      "source": [
        "import keras.backend as K"
      ],
      "execution_count": 0,
      "outputs": []
    },
    {
      "cell_type": "markdown",
      "metadata": {
        "id": "yZBkiF3u-79j",
        "colab_type": "text"
      },
      "source": [
        "Tu je vytvorená funkcia inverzná k preprocess_image na to aby sme mohli konvertovať obrázky spätne a zobraziť ich."
      ]
    },
    {
      "cell_type": "code",
      "metadata": {
        "id": "VrRv7B6ABDae",
        "colab_type": "code",
        "colab": {}
      },
      "source": [
        "def deprocess_image(img):\n",
        "  mean = np.array([103.939, 116.779, 123.68])\n",
        "  img += mean\n",
        "  img = np.clip(img, 0, 255)\n",
        "  return np.uint8(img[:,:,::-1])\n",
        "\n",
        "img = preprocess_input(test_imgs[0])\n",
        "img = deprocess_image(img)\n",
        "plt.figure(figsize = (10,10))\n",
        "plt.imshow(img[:,:,::-1])\n",
        "plt.show()"
      ],
      "execution_count": 0,
      "outputs": []
    },
    {
      "cell_type": "markdown",
      "metadata": {
        "id": "7nFicHpI_Vja",
        "colab_type": "text"
      },
      "source": [
        "Toto je kód k základnému DeepDreamu. Všimnite si, že iterujeme tak aby sa loss zvyšovala. Pri tejto implementácii je dôležité uveodmiť si, že vhodné nastavenie eta úzko súvisí s tým ako je nastavená loss. Ak by loss bola napr. súčet a nie priemer, tak by sme zvolili nižšie eta."
      ]
    },
    {
      "cell_type": "code",
      "metadata": {
        "id": "kg2oxBrx7WBU",
        "colab_type": "code",
        "colab": {}
      },
      "source": [
        "def deep_dream(input_img, model, layer_name, channel_index, eta, steps):\n",
        "  model_input = model.input\n",
        "  layer_dict = dict([(layer.name, layer) for layer in model.layers])\n",
        "  if layer_name not in layer_dict:\n",
        "    raise ValueError('Layer ' + layer_name + ' not found in model.')\n",
        "  layer = layer_dict[layer_name].output\n",
        "  if layer.shape[3] < channel_index:\n",
        "    raise ValueError('Layer ' + layer_name + ' has only {} channels.'.format(layer.shape[3]))\n",
        "  \n",
        "  loss = K.mean(K.square(layer[:, :, :, channel_index]))  \n",
        "  grad = K.gradients(loss, model_input)[0]\n",
        "  \n",
        "  fetch_loss_grad = K.function([model_input], [loss, grad])\n",
        "\n",
        "  for i in range(steps):\n",
        "    out = fetch_loss_grad([input_img])\n",
        "    r_loss = out[0]    \n",
        "    print(\"At step: {}, loss: {}\".format(i, r_loss))\n",
        "\n",
        "    r_grad = out[1]\n",
        "    input_img += eta * r_grad\n",
        "\n",
        "  return input_img"
      ],
      "execution_count": 0,
      "outputs": []
    },
    {
      "cell_type": "markdown",
      "metadata": {
        "id": "MnJzsSYsCEs3",
        "colab_type": "text"
      },
      "source": [
        "Našu funkciu si teraz môžeme otestovať. Najskôr si pozrieme názvy vrstie."
      ]
    },
    {
      "cell_type": "code",
      "metadata": {
        "id": "br3g12ykCHwb",
        "colab_type": "code",
        "colab": {}
      },
      "source": [
        "print([(l.name) for l in resnet.layers[1:]])"
      ],
      "execution_count": 0,
      "outputs": []
    },
    {
      "cell_type": "markdown",
      "metadata": {
        "id": "bjfH-YVj_2cV",
        "colab_type": "text"
      },
      "source": [
        "Tento kód nám spustí DeepDream a zobrazí obrázok."
      ]
    },
    {
      "cell_type": "code",
      "metadata": {
        "id": "0B0kjRHACfhk",
        "colab_type": "code",
        "colab": {}
      },
      "source": [
        "in_img = preprocess_input(test_imgs[0])[np.newaxis, :, :, :]\n",
        "out_img = deep_dream(in_img, resnet, 'conv2_block1_1_conv', 10, 10000, 200)\n",
        "decoded_img = deprocess_image(out_img[0])\n",
        "plt.figure(figsize = (10,10))\n",
        "plt.imshow(decoded_img[:,:,::-1])\n",
        "plt.show()"
      ],
      "execution_count": 0,
      "outputs": []
    },
    {
      "cell_type": "code",
      "metadata": {
        "id": "K7vO-G8eLnNp",
        "colab_type": "code",
        "colab": {}
      },
      "source": [
        "in_img = preprocess_input(test_imgs[0])[np.newaxis, :, :, :]\n",
        "out_img = deep_dream(in_img, resnet, 'conv5_block3_3_conv', 187, 20000, 200)\n",
        "decoded_img = deprocess_image(out_img[0])\n",
        "plt.figure(figsize = (10,10))\n",
        "plt.imshow(decoded_img[:,:,::-1])\n",
        "plt.show()"
      ],
      "execution_count": 0,
      "outputs": []
    },
    {
      "cell_type": "markdown",
      "metadata": {
        "id": "7EY5O8fmxE7U",
        "colab_type": "text"
      },
      "source": [
        "### Úloha - Oklamanie siete (Adversarial example)\n",
        "\n",
        "Aby sme si demonštrovali limitácie modelu, tak si teraz ukážeme ako je možné relatívne málo upraviť obrázok a oklamať tak sieť. Toto spravíme tak, že aplikujeme podobný postup ako v DeepDream časti, avšak maximalizovať budeme hodnotu klasifikácie pre nejakú triedu a minimalizovať budeme aktiváciu pre správnu klasifikáciu.\n",
        "\n",
        "Dopíšte funkcia adversarial dream, tak aby upravila obrázok aby ho klasifikovala ako inú triedu ako predtým.\n",
        "\n",
        "Pozn.: V prípade, že sa vyrábajú tzv. adversarial examples sa často krát pridáva do loss function člen, ktorý zabezpečí, že zmena obrázka je čo najmenšia, to však nás až tak netrápi."
      ]
    },
    {
      "cell_type": "code",
      "metadata": {
        "id": "SoLHZyhpxmbj",
        "colab_type": "code",
        "colab": {}
      },
      "source": [
        "def adversarial_dream(input_img, model):\n",
        "  return input_img"
      ],
      "execution_count": 0,
      "outputs": []
    },
    {
      "cell_type": "markdown",
      "metadata": {
        "id": "5p1yOkxhANka",
        "colab_type": "text"
      },
      "source": [
        "Ak je funkcia správne implementovaná tento kód by mal zobraziť upravený obrázok. A po volaní predict by mala sieť vrátiť inú triedu."
      ]
    },
    {
      "cell_type": "code",
      "metadata": {
        "id": "DFgZLN8ByeOy",
        "colab_type": "code",
        "colab": {}
      },
      "source": [
        "in_img = preprocess_input(test_imgs[0])[np.newaxis, :, :, :]\n",
        "out_img = adversarial_dream(in_img, resnet)\n",
        "prediction = resnet.predict(out_img)\n",
        "print(np.max(prediction[0]))\n",
        "print(decode_predictions(prediction))\n",
        "decoded_img = deprocess_image(out_img[0])\n",
        "plt.figure(figsize = (10,10))\n",
        "plt.imshow(decoded_img[:,:,::-1])\n",
        "plt.show()"
      ],
      "execution_count": 0,
      "outputs": []
    },
    {
      "cell_type": "markdown",
      "metadata": {
        "id": "1Yy05afBIyob",
        "colab_type": "text"
      },
      "source": [
        "Overíme si aj fungovanie po deprocesingu a processingu. Toto nemusí fungovať vždy úplne dobre, ale môžete sa s tým pohrať."
      ]
    },
    {
      "cell_type": "code",
      "metadata": {
        "id": "0R1BJaKQFd0a",
        "colab_type": "code",
        "colab": {}
      },
      "source": [
        "prediction = resnet.predict(preprocess_input(decoded_img)[np.newaxis, ...])\n",
        "print(np.argmax(prediction[0]))\n",
        "print(decode_predictions(prediction))"
      ],
      "execution_count": 0,
      "outputs": []
    },
    {
      "cell_type": "markdown",
      "metadata": {
        "id": "UcOv1Yl9AbjG",
        "colab_type": "text"
      },
      "source": [
        "### Úloha 3\n",
        "\n",
        "Teraz dopíšte túto funkciu tak, aby generovala obrázok, ktorý sieť klasifikuje ako nami zvolenú triedu podľa ID zo [zoznamu](https://gist.github.com/yrevar/942d3a0ac09ec9e5eb3a). Myslite na to, že zvolená trieda môže mať pre počiatočný obrázok veľmi malú pravdepodobnosť. Toto musíte vo funckii zohľadniť. "
      ]
    },
    {
      "cell_type": "code",
      "metadata": {
        "id": "AHsolO542Jkk",
        "colab_type": "code",
        "colab": {}
      },
      "source": [
        "def adversarial_dream_with_target(input_img, model, desired_class_id):\n",
        "  return input_img"
      ],
      "execution_count": 0,
      "outputs": []
    },
    {
      "cell_type": "code",
      "metadata": {
        "id": "HgoTN0N13IlI",
        "colab_type": "code",
        "colab": {}
      },
      "source": [
        "in_img = preprocess_input(test_imgs[0])[np.newaxis, :, :, :]\n",
        "out_img = adversarial_dream_with_target(in_img, resnet, 640)\n",
        "prediction = resnet.predict(out_img)\n",
        "print(np.argmax(prediction[0]))\n",
        "print(decode_predictions(prediction))\n",
        "decoded_img = deprocess_image(out_img[0])\n",
        "plt.figure(figsize = (10,10))\n",
        "plt.imshow(decoded_img[:,:,::-1])\n",
        "plt.show()"
      ],
      "execution_count": 0,
      "outputs": []
    },
    {
      "cell_type": "markdown",
      "metadata": {
        "id": "jTfxow1cCF69",
        "colab_type": "text"
      },
      "source": [
        "Opäť sa uistíme, či nám zaokrúhlovanie a cliping hodnôt neuškodí v zámere."
      ]
    },
    {
      "cell_type": "code",
      "metadata": {
        "id": "jVK0F9vICNl4",
        "colab_type": "code",
        "colab": {}
      },
      "source": [
        "prediction = resnet.predict(preprocess_input(decoded_img)[np.newaxis, ...])\n",
        "print(np.argmax(prediction[0]))\n",
        "print(decode_predictions(prediction))"
      ],
      "execution_count": 0,
      "outputs": []
    },
    {
      "cell_type": "markdown",
      "metadata": {
        "id": "AFHncmzEOtM1",
        "colab_type": "text"
      },
      "source": [
        "Pre zaujímavosť si môžeme zobraziť aj rozdieľ obrázkov."
      ]
    },
    {
      "cell_type": "code",
      "metadata": {
        "id": "aFfmz3XzOz0U",
        "colab_type": "code",
        "colab": {}
      },
      "source": [
        "diff_img = decoded_img.astype(np.float32) - test_imgs[0].astype(np.float32)\n",
        "\n",
        "\n",
        "print(np.max(diff_img))\n",
        "print(np.min(diff_img))\n",
        "\n",
        "diff_img /= np.max(np.abs(diff_img))\n",
        "\n",
        "print(diff_img.dtype)\n",
        "\n",
        "plt.figure(figsize = (10,10))\n",
        "plt.imshow(decoded_img[:,:,::-1])\n",
        "plt.show()\n",
        "plt.figure(figsize = (10,10))\n",
        "plt.imshow(test_imgs[0][:,:,::-1])\n",
        "plt.show()\n",
        "plt.figure(figsize = (10,10))\n",
        "plt.imshow(diff_img[:,:,::-1])\n",
        "plt.show()\n",
        "plt.figure(figsize = (10,10))\n",
        "plt.imshow(-diff_img[:,:,::-1])\n",
        "plt.show()"
      ],
      "execution_count": 0,
      "outputs": []
    }
  ]
}