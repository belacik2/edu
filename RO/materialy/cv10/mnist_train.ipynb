{
  "nbformat": 4,
  "nbformat_minor": 0,
  "metadata": {
    "colab": {
      "name": "mnist-train.ipynb",
      "version": "0.3.2",
      "provenance": [],
      "collapsed_sections": [],
      "include_colab_link": true
    },
    "kernelspec": {
      "name": "python3",
      "display_name": "Python 3"
    }
  },
  "cells": [
    {
      "cell_type": "markdown",
      "metadata": {
        "id": "view-in-github",
        "colab_type": "text"
      },
      "source": [
        "<a href=\"https://colab.research.google.com/github/kocurvik/edu/blob/master/RO/materialy/cv10/mnist_train.ipynb\" target=\"_parent\"><img src=\"https://colab.research.google.com/assets/colab-badge.svg\" alt=\"Open In Colab\"/></a>"
      ]
    },
    {
      "metadata": {
        "id": "hDkthvy-2LGd",
        "colab_type": "code",
        "colab": {}
      },
      "cell_type": "code",
      "source": [
        "import keras\n",
        "from keras.datasets import mnist\n",
        "from keras.models import Sequential\n",
        "from keras.layers import Dense, Dropout, Flatten\n",
        "from keras.layers import Conv2D, MaxPooling2D\n",
        "from keras import backend as K\n",
        "import numpy as np\n",
        "import matplotlib.pyplot as plt\n",
        "\n"
      ],
      "execution_count": 0,
      "outputs": []
    },
    {
      "metadata": {
        "id": "WWl_Gfr15dw_",
        "colab_type": "text"
      },
      "cell_type": "markdown",
      "source": [
        "Keras má predpripravené dáta z Datasetu MNIST. Načítame ich a a zobrazíme si jeden z obrázkov."
      ]
    },
    {
      "metadata": {
        "id": "S4f3SPSR5eyH",
        "colab_type": "code",
        "colab": {
          "base_uri": "https://localhost:8080/",
          "height": 269
        },
        "outputId": "19a5ae32-65f7-4421-ff2b-8b7fe066acf6"
      },
      "cell_type": "code",
      "source": [
        "num_classes = 10\n",
        "(x, y), (x_test, y_test) = mnist.load_data()\n",
        "\n",
        "plt.imshow(x[0,:,:])\n",
        "plt.show()"
      ],
      "execution_count": 10,
      "outputs": [
        {
          "output_type": "display_data",
          "data": {
            "image/png": "[encoded data removed]",
            "text/plain": [
              "<Figure size 432x288 with 1 Axes>"
            ]
          },
          "metadata": {
            "tags": []
          }
        }
      ]
    },
    {
      "metadata": {
        "id": "C2yNMq_F6R-M",
        "colab_type": "text"
      },
      "cell_type": "markdown",
      "source": [
        "Obrázky sú v rozmeroch 28x28. Ak chceme použiť plne prepojenú sieť je nutné ich upraviť do vektorovej formy. Teda každý obrázok bude vektor s dimenziou 784. Trénovacie dáta si navyše rozdelíme na validačnú a trénovaciu množinu."
      ]
    },
    {
      "metadata": {
        "id": "vzuNwNIE6OiL",
        "colab_type": "code",
        "colab": {}
      },
      "cell_type": "code",
      "source": [
        "y_val = y[0:10000]\n",
        "y_train = y[10000:]\n",
        "x_val = np.reshape(x[0:10000],(10000,784)).\\\n",
        "            astype(np.float32)/255\n",
        "x_train = np.reshape(x[10000:],(50000,784)).\\\n",
        "              astype(np.float32)/255\n",
        "\n",
        "x_test = np.reshape(x_test,(10000,784)).\\\n",
        "              astype(np.float32)/255"
      ],
      "execution_count": 0,
      "outputs": []
    },
    {
      "metadata": {
        "id": "eYdO7Yq96ms_",
        "colab_type": "text"
      },
      "cell_type": "markdown",
      "source": [
        "Hodnoty v y-ových premenných označujú vždy len presne danú číslicu. My však chceme one-hot reprezentáciu."
      ]
    },
    {
      "metadata": {
        "id": "I1I_WWkE7FK2",
        "colab_type": "code",
        "colab": {}
      },
      "cell_type": "code",
      "source": [
        "y_train = keras.utils.to_categorical(y_train, num_classes)\n",
        "y_val = keras.utils.to_categorical(y_val, num_classes)\n",
        "y_test = keras.utils.to_categorical(y_test, num_classes)"
      ],
      "execution_count": 0,
      "outputs": []
    },
    {
      "metadata": {
        "id": "abGv5mRG7Gt5",
        "colab_type": "text"
      },
      "cell_type": "markdown",
      "source": [
        "Konečne môžeme pristúpiť k tvorbe modelu. Keďže použijeme len sekvenčný model, tak nám stačí popridávať plne prepojené vrstvy."
      ]
    },
    {
      "metadata": {
        "id": "lhdUix969T2F",
        "colab_type": "code",
        "colab": {}
      },
      "cell_type": "code",
      "source": [
        "model = Sequential()\n",
        "model.add(Dense(60, activation='sigmoid'))\n",
        "model.add(Dense(30, activation='sigmoid'))\n",
        "model.add(Dense(10, activation='softmax'))"
      ],
      "execution_count": 0,
      "outputs": []
    },
    {
      "metadata": {
        "id": "bOk6nS6S9W4U",
        "colab_type": "text"
      },
      "cell_type": "markdown",
      "source": [
        "Takto sme zatiaľ definovali štruktúru modelu. Je nutné mu pridať cenovú funkciu a trénovací algoritmus (toto vytvorí v tensorflowe štruktúru, ktorá zabezbečuje tréning)."
      ]
    },
    {
      "metadata": {
        "id": "BzTdin2m9ftM",
        "colab_type": "code",
        "colab": {}
      },
      "cell_type": "code",
      "source": [
        "loss = keras.losses.categorical_crossentropy\n",
        "optimizer = keras.optimizers.Adam()\n",
        "model.compile(loss=loss,\n",
        "              optimizer=optimizer,\n",
        "              metrics=['accuracy'])"
      ],
      "execution_count": 0,
      "outputs": []
    },
    {
      "metadata": {
        "id": "2KuFD2xt9uRb",
        "colab_type": "text"
      },
      "cell_type": "markdown",
      "source": [
        "V prípade, že si chceme ukladať model priebežne pri trénovaní môžeme odkomentovať túto časť."
      ]
    },
    {
      "metadata": {
        "id": "mxcpxsIg9vQD",
        "colab_type": "code",
        "colab": {}
      },
      "cell_type": "code",
      "source": [
        "callbacks = []\n",
        "#checkpoint = keras.callbacks.ModelCheckpoint(\n",
        "#    'mnist_{epoch:02d}-{val_loss:.8f}-{val_acc:.4f}.hdf5',\n",
        "#    verbose=1)\n",
        "#callbacks.append(checkpoint)"
      ],
      "execution_count": 0,
      "outputs": []
    },
    {
      "metadata": {
        "id": "XcQOY_VO9_5s",
        "colab_type": "text"
      },
      "cell_type": "markdown",
      "source": [
        "Model natrénujeme!"
      ]
    },
    {
      "metadata": {
        "id": "iMasBJcn-Aiu",
        "colab_type": "code",
        "colab": {
          "base_uri": "https://localhost:8080/",
          "height": 1411
        },
        "outputId": "360416c8-c1d0-4beb-f089-a84404d652e0"
      },
      "cell_type": "code",
      "source": [
        "batch_size = 128\n",
        "epochs = 40\n",
        "\n",
        "model.fit(x_train, y_train,\n",
        "          batch_size=batch_size,\n",
        "          epochs=epochs,\n",
        "          verbose=1,\n",
        "          validation_data=(x_val, y_val),\n",
        "          callbacks=callbacks)"
      ],
      "execution_count": 16,
      "outputs": [
        {
          "output_type": "stream",
          "text": [
            "Train on 50000 samples, validate on 10000 samples\n",
            "Epoch 1/40\n",
            "50000/50000 [==============================] - 2s 32us/step - loss: 1.2942 - acc: 0.7200 - val_loss: 0.6170 - val_acc: 0.8889\n",
            "Epoch 2/40\n",
            "50000/50000 [==============================] - 1s 27us/step - loss: 0.4487 - acc: 0.8999 - val_loss: 0.3372 - val_acc: 0.9180\n",
            "Epoch 3/40\n",
            "50000/50000 [==============================] - 1s 27us/step - loss: 0.3000 - acc: 0.9218 - val_loss: 0.2640 - val_acc: 0.9274\n",
            "Epoch 4/40\n",
            "50000/50000 [==============================] - 1s 26us/step - loss: 0.2418 - acc: 0.9343 - val_loss: 0.2225 - val_acc: 0.9393\n",
            "Epoch 5/40\n",
            "50000/50000 [==============================] - 1s 26us/step - loss: 0.2051 - acc: 0.9430 - val_loss: 0.1957 - val_acc: 0.9435\n",
            "Epoch 6/40\n",
            "50000/50000 [==============================] - 1s 27us/step - loss: 0.1782 - acc: 0.9500 - val_loss: 0.1770 - val_acc: 0.9505\n",
            "Epoch 7/40\n",
            "50000/50000 [==============================] - 1s 28us/step - loss: 0.1576 - acc: 0.9561 - val_loss: 0.1624 - val_acc: 0.9537\n",
            "Epoch 8/40\n",
            "50000/50000 [==============================] - 1s 27us/step - loss: 0.1401 - acc: 0.9609 - val_loss: 0.1512 - val_acc: 0.9570\n",
            "Epoch 9/40\n",
            "50000/50000 [==============================] - 1s 27us/step - loss: 0.1260 - acc: 0.9649 - val_loss: 0.1406 - val_acc: 0.9595\n",
            "Epoch 10/40\n",
            "50000/50000 [==============================] - 1s 27us/step - loss: 0.1140 - acc: 0.9679 - val_loss: 0.1345 - val_acc: 0.9606\n",
            "Epoch 11/40\n",
            "50000/50000 [==============================] - 1s 27us/step - loss: 0.1037 - acc: 0.9711 - val_loss: 0.1330 - val_acc: 0.9623\n",
            "Epoch 12/40\n",
            "50000/50000 [==============================] - 1s 27us/step - loss: 0.0943 - acc: 0.9734 - val_loss: 0.1232 - val_acc: 0.9639\n",
            "Epoch 13/40\n",
            "50000/50000 [==============================] - 1s 27us/step - loss: 0.0864 - acc: 0.9758 - val_loss: 0.1208 - val_acc: 0.9649\n",
            "Epoch 14/40\n",
            "50000/50000 [==============================] - 1s 27us/step - loss: 0.0790 - acc: 0.9783 - val_loss: 0.1182 - val_acc: 0.9632\n",
            "Epoch 15/40\n",
            "50000/50000 [==============================] - 1s 27us/step - loss: 0.0728 - acc: 0.9791 - val_loss: 0.1130 - val_acc: 0.9660\n",
            "Epoch 16/40\n",
            "50000/50000 [==============================] - 1s 27us/step - loss: 0.0670 - acc: 0.9814 - val_loss: 0.1115 - val_acc: 0.9661\n",
            "Epoch 17/40\n",
            "50000/50000 [==============================] - 1s 27us/step - loss: 0.0613 - acc: 0.9833 - val_loss: 0.1116 - val_acc: 0.9654\n",
            "Epoch 18/40\n",
            "50000/50000 [==============================] - 1s 27us/step - loss: 0.0569 - acc: 0.9844 - val_loss: 0.1088 - val_acc: 0.9670\n",
            "Epoch 19/40\n",
            "50000/50000 [==============================] - 1s 27us/step - loss: 0.0527 - acc: 0.9856 - val_loss: 0.1047 - val_acc: 0.9683\n",
            "Epoch 20/40\n",
            "50000/50000 [==============================] - 1s 27us/step - loss: 0.0485 - acc: 0.9870 - val_loss: 0.1037 - val_acc: 0.9673\n",
            "Epoch 21/40\n",
            "50000/50000 [==============================] - 1s 29us/step - loss: 0.0444 - acc: 0.9889 - val_loss: 0.1028 - val_acc: 0.9686\n",
            "Epoch 22/40\n",
            "50000/50000 [==============================] - 1s 29us/step - loss: 0.0410 - acc: 0.9894 - val_loss: 0.1025 - val_acc: 0.9682\n",
            "Epoch 23/40\n",
            "50000/50000 [==============================] - 1s 29us/step - loss: 0.0379 - acc: 0.9905 - val_loss: 0.1032 - val_acc: 0.9686\n",
            "Epoch 24/40\n",
            "50000/50000 [==============================] - 1s 28us/step - loss: 0.0349 - acc: 0.9915 - val_loss: 0.1060 - val_acc: 0.9681\n",
            "Epoch 25/40\n",
            "50000/50000 [==============================] - 1s 26us/step - loss: 0.0321 - acc: 0.9924 - val_loss: 0.1079 - val_acc: 0.9675\n",
            "Epoch 26/40\n",
            "50000/50000 [==============================] - 1s 27us/step - loss: 0.0293 - acc: 0.9934 - val_loss: 0.1025 - val_acc: 0.9688\n",
            "Epoch 27/40\n",
            "50000/50000 [==============================] - 1s 27us/step - loss: 0.0272 - acc: 0.9941 - val_loss: 0.1033 - val_acc: 0.9683\n",
            "Epoch 28/40\n",
            "50000/50000 [==============================] - 1s 27us/step - loss: 0.0251 - acc: 0.9943 - val_loss: 0.1044 - val_acc: 0.9693\n",
            "Epoch 29/40\n",
            "50000/50000 [==============================] - 1s 27us/step - loss: 0.0232 - acc: 0.9951 - val_loss: 0.1018 - val_acc: 0.9693\n",
            "Epoch 30/40\n",
            "50000/50000 [==============================] - 1s 27us/step - loss: 0.0210 - acc: 0.9958 - val_loss: 0.1062 - val_acc: 0.9677\n",
            "Epoch 31/40\n",
            "50000/50000 [==============================] - 1s 26us/step - loss: 0.0192 - acc: 0.9965 - val_loss: 0.1064 - val_acc: 0.9692\n",
            "Epoch 32/40\n",
            "50000/50000 [==============================] - 1s 26us/step - loss: 0.0178 - acc: 0.9966 - val_loss: 0.1053 - val_acc: 0.9696\n",
            "Epoch 33/40\n",
            "50000/50000 [==============================] - 1s 26us/step - loss: 0.0160 - acc: 0.9974 - val_loss: 0.1097 - val_acc: 0.9689\n",
            "Epoch 34/40\n",
            "50000/50000 [==============================] - 1s 26us/step - loss: 0.0145 - acc: 0.9975 - val_loss: 0.1103 - val_acc: 0.9690\n",
            "Epoch 35/40\n",
            "50000/50000 [==============================] - 1s 26us/step - loss: 0.0131 - acc: 0.9980 - val_loss: 0.1103 - val_acc: 0.9688\n",
            "Epoch 36/40\n",
            "50000/50000 [==============================] - 1s 27us/step - loss: 0.0120 - acc: 0.9982 - val_loss: 0.1099 - val_acc: 0.9696\n",
            "Epoch 37/40\n",
            "50000/50000 [==============================] - 1s 27us/step - loss: 0.0108 - acc: 0.9984 - val_loss: 0.1135 - val_acc: 0.9689\n",
            "Epoch 38/40\n",
            "50000/50000 [==============================] - 1s 27us/step - loss: 0.0098 - acc: 0.9988 - val_loss: 0.1134 - val_acc: 0.9694\n",
            "Epoch 39/40\n",
            "50000/50000 [==============================] - 1s 27us/step - loss: 0.0088 - acc: 0.9991 - val_loss: 0.1153 - val_acc: 0.9696\n",
            "Epoch 40/40\n",
            "50000/50000 [==============================] - 1s 27us/step - loss: 0.0081 - acc: 0.9990 - val_loss: 0.1225 - val_acc: 0.9678\n"
          ],
          "name": "stdout"
        },
        {
          "output_type": "execute_result",
          "data": {
            "text/plain": [
              "<keras.callbacks.History at 0x7fc5e4bc12e8>"
            ]
          },
          "metadata": {
            "tags": []
          },
          "execution_count": 16
        }
      ]
    },
    {
      "metadata": {
        "id": "W9jzWl22-aGU",
        "colab_type": "text"
      },
      "cell_type": "markdown",
      "source": [
        "Natrénovný model môžeme spustiť na dáta jednotlivo. Je nutné ale pridať jednu singleton dimenziu."
      ]
    },
    {
      "metadata": {
        "id": "2Yc2tKM--nwM",
        "colab_type": "code",
        "colab": {
          "base_uri": "https://localhost:8080/",
          "height": 337
        },
        "outputId": "3cab4bb6-e766-4f7d-efc0-653846617969"
      },
      "cell_type": "code",
      "source": [
        "pred = model.predict(x_test[np.newaxis, 0, :])\n",
        "print(pred)\n",
        "print(y_test[0,:])\n",
        "plt.imshow(np.reshape(x_test[0],(28,28)))\n",
        "plt.show"
      ],
      "execution_count": 17,
      "outputs": [
        {
          "output_type": "stream",
          "text": [
            "[[2.8866818e-06 1.5042381e-06 9.5116569e-08 8.8020224e-06 1.2765067e-07\n",
            "  4.1257513e-06 2.7703223e-11 9.9995673e-01 3.3378392e-06 2.2454749e-05]]\n",
            "[0. 0. 0. 0. 0. 0. 0. 1. 0. 0.]\n"
          ],
          "name": "stdout"
        },
        {
          "output_type": "execute_result",
          "data": {
            "text/plain": [
              "<function matplotlib.pyplot.show>"
            ]
          },
          "metadata": {
            "tags": []
          },
          "execution_count": 17
        },
        {
          "output_type": "display_data",
          "data": {
            "image/png": "[encoded data removed]",
            "text/plain": [
              "<Figure size 432x288 with 1 Axes>"
            ]
          },
          "metadata": {
            "tags": []
          }
        }
      ]
    },
    {
      "metadata": {
        "id": "Xd7OVdYw-4Fr",
        "colab_type": "text"
      },
      "cell_type": "markdown",
      "source": [
        "Môžeme vyhodnotiť presnosť dát na testovacej množine."
      ]
    },
    {
      "metadata": {
        "id": "cK1DmwQA-lxF",
        "colab_type": "code",
        "colab": {
          "base_uri": "https://localhost:8080/",
          "height": 68
        },
        "outputId": "1a137c7e-ac1d-4dc7-cb48-c5dc3b9bc22d"
      },
      "cell_type": "code",
      "source": [
        "score = model.evaluate(x_test, y_test)\n",
        "print('Test loss:', score[0])\n",
        "print('Test accuracy:', score[1])"
      ],
      "execution_count": 18,
      "outputs": [
        {
          "output_type": "stream",
          "text": [
            "10000/10000 [==============================] - 0s 28us/step\n",
            "Test loss: 0.11000788122622762\n",
            "Test accuracy: 0.9716\n"
          ],
          "name": "stdout"
        }
      ]
    }
  ]
}